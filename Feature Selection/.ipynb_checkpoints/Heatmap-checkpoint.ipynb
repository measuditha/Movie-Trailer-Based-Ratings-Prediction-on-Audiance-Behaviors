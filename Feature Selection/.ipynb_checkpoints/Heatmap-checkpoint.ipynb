{
 "cells": [
  {
   "cell_type": "code",
   "execution_count": null,
   "metadata": {},
   "outputs": [],
   "source": [
    "import pandas as pd\n",
    "import seaborn as sns\n",
    "%matplotlib inline\n",
    "import matplotlib.pyplot as plt\n",
    "\n",
    "iputFileType ='_20'\n",
    "\n",
    "#Loading the dataset\n",
    "inputFile = 'C:/Users/Shehan Janeth/Documents/Pre_Processed_Data/Model_Input_Data/Model_Input_Data'+iputFileType+'.csv'\n",
    "\n",
    "# Read train and test data\n",
    "DataSet_Input = pd.read_csv(inputFile)\n",
    "X = DataSet_Input.drop(['Rating', 'Genre', 'UserRating'], axis=1)\n",
    "Y = DataSet_Input['Rating']"
   ]
  },
  {
   "cell_type": "markdown",
   "metadata": {},
   "source": [
    " <center><h2>correlation heatmap"
   ]
  },
  {
   "cell_type": "code",
   "execution_count": null,
   "metadata": {},
   "outputs": [],
   "source": [
    "#get correlations of each features in dataset\n",
    "corrmat = DataSet_Input.corr()\n",
    "top_corr_features = corrmat.index"
   ]
  },
  {
   "cell_type": "code",
   "execution_count": null,
   "metadata": {},
   "outputs": [],
   "source": [
    "#plot heat map\n",
    "g=sns.heatmap(DataSet_Input[top_corr_features].corr(),annot=True,cmap=\"RdYlGn\")\n",
    "fig = g.get_figure()\n",
    "fig.savefig('Feature Selection/HeatMap'+iputFileType+'.png')\n",
    "fig.show()"
   ]
  }
 ],
 "metadata": {
  "kernelspec": {
   "display_name": "Python 3",
   "language": "python",
   "name": "python3"
  },
  "language_info": {
   "codemirror_mode": {
    "name": "ipython",
    "version": 3
   },
   "file_extension": ".py",
   "mimetype": "text/x-python",
   "name": "python",
   "nbconvert_exporter": "python",
   "pygments_lexer": "ipython3",
   "version": "3.7.0"
  }
 },
 "nbformat": 4,
 "nbformat_minor": 2
}
