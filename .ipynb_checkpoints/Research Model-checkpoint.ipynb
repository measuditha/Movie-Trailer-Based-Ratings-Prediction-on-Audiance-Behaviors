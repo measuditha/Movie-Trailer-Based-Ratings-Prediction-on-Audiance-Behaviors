{
 "cells": [
  {
   "cell_type": "markdown",
   "metadata": {
    "pycharm": {
     "name": "#%% md\n"
    }
   },
   "source": [
    " <center><h2> PREDICTING MOVIE RATINGS FROM AUDIENCE BEHAVIOURS ON MOVIE TRAILERS"
   ]
  },
  {
   "cell_type": "markdown",
   "metadata": {
    "pycharm": {
     "name": "#%% md\n"
    }
   },
   "source": [
    "### <center><h2> Research Model"
   ]
  },
  {
   "cell_type": "code",
   "execution_count": null,
   "metadata": {
    "pycharm": {
     "is_executing": true,
     "name": "#%%\n"
    }
   },
   "outputs": [],
   "source": [
    "import pandas as pd\n",
    "from sklearn.model_selection import train_test_split\n",
    "from sklearn.svm import SVC\n",
    "from sklearn.neural_network import MLPClassifier\n",
    "from sklearn.neighbors import KNeighborsClassifier\n",
    "from sklearn.tree import DecisionTreeClassifier\n",
    "from sklearn.ensemble import RandomForestClassifier, AdaBoostClassifier\n",
    "from sklearn.naive_bayes import GaussianNB\n",
    "from sklearn.discriminant_analysis import LinearDiscriminantAnalysis\n",
    "from sklearn.linear_model import LinearRegression\n",
    "from joblib import dump\n",
    "import plotly.graph_objects as go\n",
    "import math\n",
    "from sklearn.metrics import mean_squared_error\n",
    "from sklearn.metrics import mean_absolute_error\n",
    "from os import path"
   ]
  },
  {
   "cell_type": "markdown",
   "metadata": {
    "pycharm": {
     "name": "#%% md\n"
    }
   },
   "source": [
    "<h4>Feature Selection"
   ]
  },
  {
   "cell_type": "code",
   "execution_count": 2,
   "metadata": {
    "pycharm": {
     "name": "#%%\n"
    }
   },
   "outputs": [],
   "source": [
    "Selected_Features_10 = ['motion_image_high','motion_image_low','blink_rate','lean_forward','lean_backward','head_rotation',\n",
    "                        'eye_rotation','Happiness_Avg','Happiness_Std','Happiness_25P','Happiness_75P','Happiness_Peaks',\n",
    "                        'Happiness_0','Happiness_10','Happiness_20','Happiness_30','Happiness_40','Happiness_50','Happiness_60',\n",
    "                        'Happiness_70']\n",
    "\n",
    "Selected_Features_5 = ['motion_image_high','motion_image_low','blink_rate','lean_forward','lean_backward','head_rotation',\n",
    "                       'eye_rotation','Happiness_Avg','Happiness_Std','Happiness_25P','Happiness_75P','Happiness_Peaks',\n",
    "                       'Happiness_0','Happiness_20','Happiness_40','Happiness_60','Happiness_80','Sadness_Avg','Sadness_Std',\n",
    "                       'Sadness_25P']\n",
    "\n",
    "Selected_Features_4 = ['motion_image_high','motion_image_low','blink_rate','lean_forward','lean_backward','head_rotation',\n",
    "                       'eye_rotation','Happiness_Avg','Happiness_Std','Happiness_25P','Happiness_75P','Happiness_Peaks',\n",
    "                       'Happiness_0','Happiness_25','Happiness_50','Happiness_75','Sadness_Avg','Sadness_Std','Sadness_25P',\n",
    "                       'Sadness_75P']"
   ]
  },
  {
   "cell_type": "markdown",
   "metadata": {
    "pycharm": {
     "name": "#%% md\n"
    }
   },
   "source": [
    " <h4>classifier set"
   ]
  },
  {
   "cell_type": "code",
   "execution_count": 3,
   "metadata": {
    "pycharm": {
     "name": "#%%\n"
    }
   },
   "outputs": [],
   "source": [
    "classifierTitle = ['DecisionTreeClassifier', 'MLPClassifier-sgd', 'MLPClassifier-adam', 'KNeighborsClassifier',\n",
    "                   'SVC-linear(C=0.025)', 'SVC(gamma=2, C=1)', 'RandomForestClassifier', 'AdaBoostClassifier',\n",
    "                   'GaussianNB', 'LinearDiscriminant', 'LinearRegression']\n",
    "\n",
    "# Define the model\n",
    "classifiers = [ DecisionTreeClassifier(max_depth=5),\n",
    "               MLPClassifier(solver='sgd', alpha=1e-5, hidden_layer_sizes=(5, 2), random_state=1, learning_rate_init=0.001,\n",
    "                  batch_size=64, max_iter=100, verbose=False),\n",
    "               MLPClassifier(solver='adam', alpha=1e-5, hidden_layer_sizes=(5, 2), random_state=1),\n",
    "               KNeighborsClassifier(2),\n",
    "               SVC(kernel=\"linear\", C=0.025),\n",
    "               SVC(gamma=2, C=1),\n",
    "               RandomForestClassifier(max_depth=5, n_estimators=10, max_features=1),\n",
    "               AdaBoostClassifier(),\n",
    "               GaussianNB(),\n",
    "               LinearDiscriminantAnalysis(),\n",
    "               LinearRegression(n_jobs=-1)]"
   ]
  },
  {
   "cell_type": "markdown",
   "metadata": {
    "pycharm": {
     "name": "#%% md\n"
    }
   },
   "source": [
    " <h4> Results File Setup"
   ]
  },
  {
   "cell_type": "code",
   "execution_count": 4,
   "metadata": {
    "pycharm": {
     "name": "#%%\n"
    }
   },
   "outputs": [
    {
     "data": {
      "text/plain": [
       "70"
      ]
     },
     "execution_count": 4,
     "metadata": {},
     "output_type": "execute_result"
    }
   ],
   "source": [
    "inputFilePath = 'C:/Users/Shehan Janeth/Documents/Pre_Processed_Data/Model_Input_Data/'\n",
    "\n",
    "\n",
    "resultFilePath = 'C:/Users/Shehan Janeth/Documents/Research Output/Audience Ratings/Research Model/'\n",
    "modelFilePath = 'C:/Users/Shehan Janeth/Documents/Research Output/Audience Ratings/Research Model/Model_File/'\n",
    "graphFilePath = 'C:/Users/Shehan Janeth/Documents/Research Output/Audience Ratings/Research Model/Research_Graphs/'\n",
    "\n",
    "textFile = open(resultFilePath+'Prediction Score.txt', \"w\")\n",
    "textFile.write(\"PREDICTING MOVIE RATINGS FROM AUDIENCE BEHAVIOURS ON MOVIE TRAILERS\\n\\n\\n\")"
   ]
  },
  {
   "cell_type": "markdown",
   "metadata": {
    "pycharm": {
     "name": "#%% md\n"
    }
   },
   "source": [
    "<h4> Input Setup"
   ]
  },
  {
   "cell_type": "code",
   "execution_count": 5,
   "metadata": {
    "pycharm": {
     "name": "#%%\n"
    }
   },
   "outputs": [],
   "source": [
    "def inputSetup(iputFileType):\n",
    "    \n",
    "    inputFile = inputFilePath+'Model_Input_Data_'+iputFileType+'.csv'\n",
    "    \n",
    "    df_Input = pd.read_csv(inputFile)\n",
    "    \n",
    "    #y = df_Input['Rating']\n",
    "    y = df_Input['UserRating']\n",
    "    X = df_Input\n",
    "    \n",
    "    if iputFileType == \"4\":\n",
    "        X = df_Input[Selected_Features_4]\n",
    "    if iputFileType == \"5\":    \n",
    "        X = df_Input[Selected_Features_5]\n",
    "    if iputFileType == \"10\":\n",
    "        X = df_Input[Selected_Features_10]\n",
    "    if iputFileType == \"20\":   \n",
    "        X = df_Input[Selected_Features_20]\n",
    "    \n",
    "    train_features, test_features, train_labels, test_labels = train_test_split(X, y,test_size=0.3)\n",
    "    \n",
    "    return  train_features, test_features, train_labels, test_labels"
   ]
  },
  {
   "cell_type": "markdown",
   "metadata": {
    "pycharm": {
     "name": "#%% md\n"
    }
   },
   "source": [
    " <h4> Plot Graph files"
   ]
  },
  {
   "cell_type": "code",
   "execution_count": 6,
   "metadata": {
    "pycharm": {
     "name": "#%%\n"
    }
   },
   "outputs": [],
   "source": [
    "def plotgraph(test_labels,predict_labels,modelResults):\n",
    "    \n",
    "    fig = go.Figure(data=go.Scatter(y=test_labels, name='Actual rating'))\n",
    "    fig.add_trace(go.Scatter(y=predict_labels, name='Predicting rating'))\n",
    "    \n",
    "    fig.update_layout(title=modelResults['Classifier']+' RMSE: {:.2f}'.format(modelResults['RMSE']))\n",
    "    \n",
    "    #fig.write_html( graphFilePath + modelResults['Classifier'] +'.html', auto_open=False)\n",
    "    fig.write_image(graphFilePath + modelResults['Classifier'] +'.png')"
   ]
  },
  {
   "cell_type": "markdown",
   "metadata": {
    "pycharm": {
     "name": "#%% md\n"
    }
   },
   "source": [
    " <h4> Evaluation Matrix to Text"
   ]
  },
  {
   "cell_type": "code",
   "execution_count": 7,
   "metadata": {
    "pycharm": {
     "name": "#%%\n"
    }
   },
   "outputs": [],
   "source": [
    "def resultsToText(modelResults):\n",
    "    \n",
    "    textFile.writelines(modelResults['Classifier'] \n",
    "                        + \"\\t\\t : {}\".format(modelResults['MAE']) \n",
    "                        + \"\\t\\t : {}\".format(modelResults['MSE'])\n",
    "                        + \"\\t\\t : {}\".format(modelResults['RMSE']) \n",
    "                        + \"\\n\\n\")"
   ]
  },
  {
   "cell_type": "markdown",
   "metadata": {
    "pycharm": {
     "name": "#%% md\n"
    }
   },
   "source": [
    "<h4> Evaluation Matrix to CSV"
   ]
  },
  {
   "cell_type": "code",
   "execution_count": 8,
   "metadata": {
    "pycharm": {
     "name": "#%%\n"
    }
   },
   "outputs": [],
   "source": [
    "def resultsToCSV(modelResults):\n",
    "    \n",
    "    resultsToText(modelResults)\n",
    "    \n",
    "    df_results = pd.DataFrame(columns = ['Classifier','MAE', 'MSE' , 'RMSE']) \n",
    "    \n",
    "    df_results = df_results.append(modelResults, ignore_index=True)\n",
    "    \n",
    "    return df_results"
   ]
  },
  {
   "cell_type": "markdown",
   "metadata": {
    "pycharm": {
     "name": "#%% md\n"
    }
   },
   "source": [
    " <h4> Model Train, Test and Evaluation"
   ]
  },
  {
   "cell_type": "code",
   "execution_count": 9,
   "metadata": {
    "pycharm": {
     "name": "#%%\n"
    }
   },
   "outputs": [],
   "source": [
    "def classifierTrain(modelInput):\n",
    "    \n",
    "    model = modelInput['classifier']\n",
    "    model.fit(modelInput['train_features'], modelInput['train_labels'])\n",
    "    predict_labels = model.predict(modelInput['test_features'])\n",
    "    \n",
    "    MAE = mean_absolute_error(modelInput['test_labels'], predict_labels)\n",
    "    MSE = mean_squared_error(modelInput['test_labels'], predict_labels)\n",
    "    RMSE = math.sqrt(MSE)\n",
    "    \n",
    "    modelResults = {'Classifier':modelInput['classifierName'],'MAE': MAE,'MSE': MSE,'RMSE': RMSE}\n",
    "    \n",
    "    plotgraph(modelInput['test_labels'],predict_labels,modelResults)\n",
    "\n",
    "    dump(model, modelFilePath + modelInput['classifierName'] + '_model.joblib')\n",
    "    \n",
    "    return resultsToCSV(modelResults)"
   ]
  },
  {
   "cell_type": "markdown",
   "metadata": {
    "pycharm": {
     "name": "#%% md\n"
    }
   },
   "source": [
    "<h2> Classifier modelling"
   ]
  },
  {
   "cell_type": "code",
   "execution_count": 10,
   "metadata": {
    "pycharm": {
     "name": "#%%\n"
    }
   },
   "outputs": [],
   "source": [
    "def classifierModelling(fileNu):\n",
    "    \n",
    "    df_Output = pd.DataFrame(columns=['Classifier','MAE', 'MSE' , 'RMSE'])\n",
    "    \n",
    "    train_features, test_features, train_labels, test_labels = inputSetup(fileNu)\n",
    "    \n",
    "    for classifier_index in range(len(classifiers)): \n",
    "        \n",
    "        classifier = classifiers[classifier_index]\n",
    "        classifierName = classifierTitle[classifier_index]        \n",
    "        \n",
    "        modelInput = {'classifier':classifier,'classifierName':classifierName +\"_\"+fileNu,\n",
    "                      'train_features':train_features,'test_features':test_features,\n",
    "                      'train_labels':train_labels,'test_labels':test_labels}\n",
    "        \n",
    "        df_Output = df_Output.append(classifierTrain(modelInput), ignore_index=True)\n",
    "        \n",
    "    return df_Output"
   ]
  },
  {
   "cell_type": "markdown",
   "metadata": {
    "pycharm": {
     "name": "#%% md\n"
    }
   },
   "source": [
    "### <h1>Main"
   ]
  },
  {
   "cell_type": "code",
   "execution_count": 11,
   "metadata": {
    "pycharm": {
     "name": "#%%\n"
    }
   },
   "outputs": [
    {
     "name": "stderr",
     "output_type": "stream",
     "text": [
      "C:\\Users\\Shehan Janeth\\AppData\\Roaming\\Python\\Python37\\site-packages\\sklearn\\neural_network\\_multilayer_perceptron.py:585: ConvergenceWarning:\n",
      "\n",
      "Stochastic Optimizer: Maximum iterations (100) reached and the optimization hasn't converged yet.\n",
      "\n",
      "C:\\Users\\Shehan Janeth\\AppData\\Roaming\\Python\\Python37\\site-packages\\sklearn\\neural_network\\_multilayer_perceptron.py:585: ConvergenceWarning:\n",
      "\n",
      "Stochastic Optimizer: Maximum iterations (200) reached and the optimization hasn't converged yet.\n",
      "\n",
      "C:\\Users\\Shehan Janeth\\AppData\\Roaming\\Python\\Python37\\site-packages\\sklearn\\neural_network\\_multilayer_perceptron.py:585: ConvergenceWarning:\n",
      "\n",
      "Stochastic Optimizer: Maximum iterations (100) reached and the optimization hasn't converged yet.\n",
      "\n",
      "C:\\Users\\Shehan Janeth\\AppData\\Roaming\\Python\\Python37\\site-packages\\sklearn\\neural_network\\_multilayer_perceptron.py:585: ConvergenceWarning:\n",
      "\n",
      "Stochastic Optimizer: Maximum iterations (200) reached and the optimization hasn't converged yet.\n",
      "\n",
      "C:\\Users\\Shehan Janeth\\AppData\\Roaming\\Python\\Python37\\site-packages\\sklearn\\neural_network\\_multilayer_perceptron.py:585: ConvergenceWarning:\n",
      "\n",
      "Stochastic Optimizer: Maximum iterations (100) reached and the optimization hasn't converged yet.\n",
      "\n",
      "C:\\Users\\Shehan Janeth\\AppData\\Roaming\\Python\\Python37\\site-packages\\sklearn\\neural_network\\_multilayer_perceptron.py:585: ConvergenceWarning:\n",
      "\n",
      "Stochastic Optimizer: Maximum iterations (200) reached and the optimization hasn't converged yet.\n",
      "\n"
     ]
    }
   ],
   "source": [
    "fileNum = ['4','5','10']\n",
    "\n",
    "df_Output = pd.DataFrame(columns=['Classifier','MAE', 'MSE' , 'RMSE'])\n",
    "\n",
    "for i in range(3):\n",
    "    \n",
    "    df_Output = df_Output.append(classifierModelling(fileNum[i]), ignore_index=True)\n",
    "    \n",
    "textFile.close()"
   ]
  },
  {
   "cell_type": "code",
   "execution_count": 12,
   "metadata": {
    "pycharm": {
     "name": "#%%\n"
    }
   },
   "outputs": [
    {
     "data": {
      "text/html": [
       "<div>\n",
       "<style scoped>\n",
       "    .dataframe tbody tr th:only-of-type {\n",
       "        vertical-align: middle;\n",
       "    }\n",
       "\n",
       "    .dataframe tbody tr th {\n",
       "        vertical-align: top;\n",
       "    }\n",
       "\n",
       "    .dataframe thead th {\n",
       "        text-align: right;\n",
       "    }\n",
       "</style>\n",
       "<table border=\"1\" class=\"dataframe\">\n",
       "  <thead>\n",
       "    <tr style=\"text-align: right;\">\n",
       "      <th></th>\n",
       "      <th>Classifier</th>\n",
       "      <th>MAE</th>\n",
       "      <th>MSE</th>\n",
       "      <th>RMSE</th>\n",
       "    </tr>\n",
       "  </thead>\n",
       "  <tbody>\n",
       "    <tr>\n",
       "      <th>0</th>\n",
       "      <td>DecisionTreeClassifier_4</td>\n",
       "      <td>15.307018</td>\n",
       "      <td>408.061404</td>\n",
       "      <td>20.200530</td>\n",
       "    </tr>\n",
       "    <tr>\n",
       "      <th>1</th>\n",
       "      <td>MLPClassifier-sgd_4</td>\n",
       "      <td>14.394737</td>\n",
       "      <td>348.728070</td>\n",
       "      <td>18.674262</td>\n",
       "    </tr>\n",
       "    <tr>\n",
       "      <th>2</th>\n",
       "      <td>MLPClassifier-adam_4</td>\n",
       "      <td>17.008772</td>\n",
       "      <td>477.324561</td>\n",
       "      <td>21.847759</td>\n",
       "    </tr>\n",
       "    <tr>\n",
       "      <th>3</th>\n",
       "      <td>KNeighborsClassifier_4</td>\n",
       "      <td>15.789474</td>\n",
       "      <td>392.438596</td>\n",
       "      <td>19.810063</td>\n",
       "    </tr>\n",
       "    <tr>\n",
       "      <th>4</th>\n",
       "      <td>SVC-linear(C=0.025)_4</td>\n",
       "      <td>14.254386</td>\n",
       "      <td>346.096491</td>\n",
       "      <td>18.603669</td>\n",
       "    </tr>\n",
       "    <tr>\n",
       "      <th>5</th>\n",
       "      <td>SVC(gamma=2, C=1)_4</td>\n",
       "      <td>14.254386</td>\n",
       "      <td>346.096491</td>\n",
       "      <td>18.603669</td>\n",
       "    </tr>\n",
       "    <tr>\n",
       "      <th>6</th>\n",
       "      <td>RandomForestClassifier_4</td>\n",
       "      <td>14.184211</td>\n",
       "      <td>339.868421</td>\n",
       "      <td>18.435521</td>\n",
       "    </tr>\n",
       "    <tr>\n",
       "      <th>7</th>\n",
       "      <td>AdaBoostClassifier_4</td>\n",
       "      <td>14.605263</td>\n",
       "      <td>359.429825</td>\n",
       "      <td>18.958635</td>\n",
       "    </tr>\n",
       "    <tr>\n",
       "      <th>8</th>\n",
       "      <td>GaussianNB_4</td>\n",
       "      <td>20.929825</td>\n",
       "      <td>665.473684</td>\n",
       "      <td>25.796777</td>\n",
       "    </tr>\n",
       "    <tr>\n",
       "      <th>9</th>\n",
       "      <td>LinearDiscriminant_4</td>\n",
       "      <td>15.184211</td>\n",
       "      <td>397.675439</td>\n",
       "      <td>19.941801</td>\n",
       "    </tr>\n",
       "    <tr>\n",
       "      <th>10</th>\n",
       "      <td>LinearRegression_4</td>\n",
       "      <td>12.288015</td>\n",
       "      <td>238.052464</td>\n",
       "      <td>15.428949</td>\n",
       "    </tr>\n",
       "    <tr>\n",
       "      <th>11</th>\n",
       "      <td>DecisionTreeClassifier_5</td>\n",
       "      <td>13.368421</td>\n",
       "      <td>330.684211</td>\n",
       "      <td>18.184725</td>\n",
       "    </tr>\n",
       "    <tr>\n",
       "      <th>12</th>\n",
       "      <td>MLPClassifier-sgd_5</td>\n",
       "      <td>11.131579</td>\n",
       "      <td>227.131579</td>\n",
       "      <td>15.070885</td>\n",
       "    </tr>\n",
       "    <tr>\n",
       "      <th>13</th>\n",
       "      <td>MLPClassifier-adam_5</td>\n",
       "      <td>15.815789</td>\n",
       "      <td>435.201754</td>\n",
       "      <td>20.861490</td>\n",
       "    </tr>\n",
       "    <tr>\n",
       "      <th>14</th>\n",
       "      <td>KNeighborsClassifier_5</td>\n",
       "      <td>19.008772</td>\n",
       "      <td>562.026316</td>\n",
       "      <td>23.707094</td>\n",
       "    </tr>\n",
       "    <tr>\n",
       "      <th>15</th>\n",
       "      <td>SVC-linear(C=0.025)_5</td>\n",
       "      <td>11.131579</td>\n",
       "      <td>227.131579</td>\n",
       "      <td>15.070885</td>\n",
       "    </tr>\n",
       "    <tr>\n",
       "      <th>16</th>\n",
       "      <td>SVC(gamma=2, C=1)_5</td>\n",
       "      <td>11.657895</td>\n",
       "      <td>238.710526</td>\n",
       "      <td>15.450260</td>\n",
       "    </tr>\n",
       "    <tr>\n",
       "      <th>17</th>\n",
       "      <td>RandomForestClassifier_5</td>\n",
       "      <td>13.763158</td>\n",
       "      <td>335.201754</td>\n",
       "      <td>18.308516</td>\n",
       "    </tr>\n",
       "    <tr>\n",
       "      <th>18</th>\n",
       "      <td>AdaBoostClassifier_5</td>\n",
       "      <td>11.412281</td>\n",
       "      <td>233.166667</td>\n",
       "      <td>15.269796</td>\n",
       "    </tr>\n",
       "    <tr>\n",
       "      <th>19</th>\n",
       "      <td>GaussianNB_5</td>\n",
       "      <td>20.114035</td>\n",
       "      <td>607.991228</td>\n",
       "      <td>24.657478</td>\n",
       "    </tr>\n",
       "    <tr>\n",
       "      <th>20</th>\n",
       "      <td>LinearDiscriminant_5</td>\n",
       "      <td>15.175439</td>\n",
       "      <td>387.771930</td>\n",
       "      <td>19.691925</td>\n",
       "    </tr>\n",
       "    <tr>\n",
       "      <th>21</th>\n",
       "      <td>LinearRegression_5</td>\n",
       "      <td>11.728211</td>\n",
       "      <td>219.516101</td>\n",
       "      <td>14.816076</td>\n",
       "    </tr>\n",
       "    <tr>\n",
       "      <th>22</th>\n",
       "      <td>DecisionTreeClassifier_10</td>\n",
       "      <td>16.070175</td>\n",
       "      <td>419.000000</td>\n",
       "      <td>20.469489</td>\n",
       "    </tr>\n",
       "    <tr>\n",
       "      <th>23</th>\n",
       "      <td>MLPClassifier-sgd_10</td>\n",
       "      <td>14.570175</td>\n",
       "      <td>369.587719</td>\n",
       "      <td>19.224664</td>\n",
       "    </tr>\n",
       "    <tr>\n",
       "      <th>24</th>\n",
       "      <td>MLPClassifier-adam_10</td>\n",
       "      <td>13.692982</td>\n",
       "      <td>325.903509</td>\n",
       "      <td>18.052798</td>\n",
       "    </tr>\n",
       "    <tr>\n",
       "      <th>25</th>\n",
       "      <td>KNeighborsClassifier_10</td>\n",
       "      <td>17.114035</td>\n",
       "      <td>462.166667</td>\n",
       "      <td>21.498062</td>\n",
       "    </tr>\n",
       "    <tr>\n",
       "      <th>26</th>\n",
       "      <td>SVC-linear(C=0.025)_10</td>\n",
       "      <td>14.570175</td>\n",
       "      <td>369.587719</td>\n",
       "      <td>19.224664</td>\n",
       "    </tr>\n",
       "    <tr>\n",
       "      <th>27</th>\n",
       "      <td>SVC(gamma=2, C=1)_10</td>\n",
       "      <td>14.649123</td>\n",
       "      <td>367.263158</td>\n",
       "      <td>19.164111</td>\n",
       "    </tr>\n",
       "    <tr>\n",
       "      <th>28</th>\n",
       "      <td>RandomForestClassifier_10</td>\n",
       "      <td>15.070175</td>\n",
       "      <td>397.456140</td>\n",
       "      <td>19.936302</td>\n",
       "    </tr>\n",
       "    <tr>\n",
       "      <th>29</th>\n",
       "      <td>AdaBoostClassifier_10</td>\n",
       "      <td>15.210526</td>\n",
       "      <td>384.666667</td>\n",
       "      <td>19.612921</td>\n",
       "    </tr>\n",
       "    <tr>\n",
       "      <th>30</th>\n",
       "      <td>GaussianNB_10</td>\n",
       "      <td>21.184211</td>\n",
       "      <td>707.885965</td>\n",
       "      <td>26.606126</td>\n",
       "    </tr>\n",
       "    <tr>\n",
       "      <th>31</th>\n",
       "      <td>LinearDiscriminant_10</td>\n",
       "      <td>15.973684</td>\n",
       "      <td>407.271930</td>\n",
       "      <td>20.180979</td>\n",
       "    </tr>\n",
       "    <tr>\n",
       "      <th>32</th>\n",
       "      <td>LinearRegression_10</td>\n",
       "      <td>12.787206</td>\n",
       "      <td>265.126482</td>\n",
       "      <td>16.282705</td>\n",
       "    </tr>\n",
       "  </tbody>\n",
       "</table>\n",
       "</div>"
      ],
      "text/plain": [
       "                   Classifier        MAE         MSE       RMSE\n",
       "0    DecisionTreeClassifier_4  15.307018  408.061404  20.200530\n",
       "1         MLPClassifier-sgd_4  14.394737  348.728070  18.674262\n",
       "2        MLPClassifier-adam_4  17.008772  477.324561  21.847759\n",
       "3      KNeighborsClassifier_4  15.789474  392.438596  19.810063\n",
       "4       SVC-linear(C=0.025)_4  14.254386  346.096491  18.603669\n",
       "5         SVC(gamma=2, C=1)_4  14.254386  346.096491  18.603669\n",
       "6    RandomForestClassifier_4  14.184211  339.868421  18.435521\n",
       "7        AdaBoostClassifier_4  14.605263  359.429825  18.958635\n",
       "8                GaussianNB_4  20.929825  665.473684  25.796777\n",
       "9        LinearDiscriminant_4  15.184211  397.675439  19.941801\n",
       "10         LinearRegression_4  12.288015  238.052464  15.428949\n",
       "11   DecisionTreeClassifier_5  13.368421  330.684211  18.184725\n",
       "12        MLPClassifier-sgd_5  11.131579  227.131579  15.070885\n",
       "13       MLPClassifier-adam_5  15.815789  435.201754  20.861490\n",
       "14     KNeighborsClassifier_5  19.008772  562.026316  23.707094\n",
       "15      SVC-linear(C=0.025)_5  11.131579  227.131579  15.070885\n",
       "16        SVC(gamma=2, C=1)_5  11.657895  238.710526  15.450260\n",
       "17   RandomForestClassifier_5  13.763158  335.201754  18.308516\n",
       "18       AdaBoostClassifier_5  11.412281  233.166667  15.269796\n",
       "19               GaussianNB_5  20.114035  607.991228  24.657478\n",
       "20       LinearDiscriminant_5  15.175439  387.771930  19.691925\n",
       "21         LinearRegression_5  11.728211  219.516101  14.816076\n",
       "22  DecisionTreeClassifier_10  16.070175  419.000000  20.469489\n",
       "23       MLPClassifier-sgd_10  14.570175  369.587719  19.224664\n",
       "24      MLPClassifier-adam_10  13.692982  325.903509  18.052798\n",
       "25    KNeighborsClassifier_10  17.114035  462.166667  21.498062\n",
       "26     SVC-linear(C=0.025)_10  14.570175  369.587719  19.224664\n",
       "27       SVC(gamma=2, C=1)_10  14.649123  367.263158  19.164111\n",
       "28  RandomForestClassifier_10  15.070175  397.456140  19.936302\n",
       "29      AdaBoostClassifier_10  15.210526  384.666667  19.612921\n",
       "30              GaussianNB_10  21.184211  707.885965  26.606126\n",
       "31      LinearDiscriminant_10  15.973684  407.271930  20.180979\n",
       "32        LinearRegression_10  12.787206  265.126482  16.282705"
      ]
     },
     "execution_count": 12,
     "metadata": {},
     "output_type": "execute_result"
    }
   ],
   "source": [
    "df_Output"
   ]
  },
  {
   "cell_type": "code",
   "execution_count": 13,
   "metadata": {
    "pycharm": {
     "name": "#%%\n"
    }
   },
   "outputs": [],
   "source": [
    "df_Output.to_csv(resultFilePath+'Results.csv')"
   ]
  },
  {
   "cell_type": "code",
   "execution_count": null,
   "metadata": {
    "pycharm": {
     "name": "#%%\n"
    }
   },
   "outputs": [],
   "source": []
  }
 ],
 "metadata": {
  "kernelspec": {
   "display_name": "Python 3 (ipykernel)",
   "language": "python",
   "name": "python3"
  },
  "language_info": {
   "codemirror_mode": {
    "name": "ipython",
    "version": 3
   },
   "file_extension": ".py",
   "mimetype": "text/x-python",
   "name": "python",
   "nbconvert_exporter": "python",
   "pygments_lexer": "ipython3",
   "version": "3.9.12"
  }
 },
 "nbformat": 4,
 "nbformat_minor": 2
}
